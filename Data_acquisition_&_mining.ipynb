{
 "cells": [
  {
   "cell_type": "code",
   "execution_count": 6,
   "id": "24031191-bfb8-4b8d-8e36-50d10b95c976",
   "metadata": {},
   "outputs": [
    {
     "name": "stdout",
     "output_type": "stream",
     "text": [
      "<class 'pandas.core.frame.DataFrame'>\n",
      "RangeIndex: 5110 entries, 0 to 5109\n",
      "Data columns (total 12 columns):\n",
      " #   Column             Non-Null Count  Dtype  \n",
      "---  ------             --------------  -----  \n",
      " 0   id                 5110 non-null   int64  \n",
      " 1   gender             5110 non-null   object \n",
      " 2   age                5110 non-null   float64\n",
      " 3   hypertension       5110 non-null   int64  \n",
      " 4   heart_disease      5110 non-null   int64  \n",
      " 5   ever_married       5110 non-null   object \n",
      " 6   work_type          5110 non-null   object \n",
      " 7   Residence_type     5110 non-null   object \n",
      " 8   avg_glucose_level  5110 non-null   float64\n",
      " 9   bmi                4909 non-null   float64\n",
      " 10  smoking_status     5110 non-null   object \n",
      " 11  stroke             5110 non-null   int64  \n",
      "dtypes: float64(3), int64(4), object(5)\n",
      "memory usage: 479.2+ KB\n",
      "None\n",
      "      id  gender   age  hypertension  heart_disease ever_married  \\\n",
      "0   9046    Male  67.0             0              1          Yes   \n",
      "1  51676  Female  61.0             0              0          Yes   \n",
      "2  31112    Male  80.0             0              1          Yes   \n",
      "3  60182  Female  49.0             0              0          Yes   \n",
      "4   1665  Female  79.0             1              0          Yes   \n",
      "\n",
      "       work_type Residence_type  avg_glucose_level   bmi   smoking_status  \\\n",
      "0        Private          Urban             228.69  36.6  formerly smoked   \n",
      "1  Self-employed          Rural             202.21   NaN     never smoked   \n",
      "2        Private          Rural             105.92  32.5     never smoked   \n",
      "3        Private          Urban             171.23  34.4           smokes   \n",
      "4  Self-employed          Rural             174.12  24.0     never smoked   \n",
      "\n",
      "   stroke  \n",
      "0       1  \n",
      "1       1  \n",
      "2       1  \n",
      "3       1  \n",
      "4       1  \n",
      "                  id  gender          age  hypertension  heart_disease  \\\n",
      "count    5110.000000    5110  5110.000000   5110.000000    5110.000000   \n",
      "unique           NaN       3          NaN           NaN            NaN   \n",
      "top              NaN  Female          NaN           NaN            NaN   \n",
      "freq             NaN    2994          NaN           NaN            NaN   \n",
      "mean    36517.829354     NaN    43.226614      0.097456       0.054012   \n",
      "std     21161.721625     NaN    22.612647      0.296607       0.226063   \n",
      "min        67.000000     NaN     0.080000      0.000000       0.000000   \n",
      "25%     17741.250000     NaN    25.000000      0.000000       0.000000   \n",
      "50%     36932.000000     NaN    45.000000      0.000000       0.000000   \n",
      "75%     54682.000000     NaN    61.000000      0.000000       0.000000   \n",
      "max     72940.000000     NaN    82.000000      1.000000       1.000000   \n",
      "\n",
      "       ever_married work_type Residence_type  avg_glucose_level          bmi  \\\n",
      "count          5110      5110           5110        5110.000000  4909.000000   \n",
      "unique            2         5              2                NaN          NaN   \n",
      "top             Yes   Private          Urban                NaN          NaN   \n",
      "freq           3353      2925           2596                NaN          NaN   \n",
      "mean            NaN       NaN            NaN         106.147677    28.893237   \n",
      "std             NaN       NaN            NaN          45.283560     7.854067   \n",
      "min             NaN       NaN            NaN          55.120000    10.300000   \n",
      "25%             NaN       NaN            NaN          77.245000    23.500000   \n",
      "50%             NaN       NaN            NaN          91.885000    28.100000   \n",
      "75%             NaN       NaN            NaN         114.090000    33.100000   \n",
      "max             NaN       NaN            NaN         271.740000    97.600000   \n",
      "\n",
      "       smoking_status       stroke  \n",
      "count            5110  5110.000000  \n",
      "unique              4          NaN  \n",
      "top      never smoked          NaN  \n",
      "freq             1892          NaN  \n",
      "mean              NaN     0.048728  \n",
      "std               NaN     0.215320  \n",
      "min               NaN     0.000000  \n",
      "25%               NaN     0.000000  \n",
      "50%               NaN     0.000000  \n",
      "75%               NaN     0.000000  \n",
      "max               NaN     1.000000  \n"
     ]
    }
   ],
   "source": [
    "import pandas as pd\n",
    "import numpy as np\n",
    "\n",
    "\n",
    "#Step 1: Data Acquisition\n",
    "\n",
    "#let's load the dataset and explore its structure and make prefect acquisition.\n",
    "dt = pd.read_csv(\"healthcare-dataset-stroke-data.csv\")\n",
    "\n",
    "#let's print a index, data types,non-null values and memory usage of the dataset.\n",
    "print(dt.info())\n",
    "\n",
    "#let's print the first few rows of the dataset.\n",
    "print(dt.head())\n",
    "\n",
    "# View summary statistics of the dataset and it's discrpition.\n",
    "print(dt.describe(include='all'))\n"
   ]
  },
  {
   "cell_type": "code",
   "execution_count": 7,
   "id": "5c11c198",
   "metadata": {},
   "outputs": [],
   "source": [
    "# Step 2: Data Wrangling\n",
    "#Handling missing values\n",
    "dt.fillna({'bmi':dt['bmi'].mean()}, inplace=True)"
   ]
  },
  {
   "cell_type": "code",
   "execution_count": 8,
   "id": "7ca9bbbb",
   "metadata": {},
   "outputs": [
    {
     "data": {
      "text/plain": [
       "np.int64(0)"
      ]
     },
     "execution_count": 8,
     "metadata": {},
     "output_type": "execute_result"
    }
   ],
   "source": [
    "#Handling duplicates\n",
    "dt.duplicated().sum()"
   ]
  },
  {
   "cell_type": "code",
   "execution_count": 9,
   "id": "ed02ac4b",
   "metadata": {},
   "outputs": [],
   "source": [
    "#outlier detection and treatment\n",
    "upper_limit = dt['bmi'].quantile(0.99)\n",
    "dt['bmi'] = np.where(dt['bmi'] > upper_limit, upper_limit, dt['bmi'])"
   ]
  },
  {
   "cell_type": "code",
   "execution_count": 11,
   "id": "25ca5990",
   "metadata": {},
   "outputs": [],
   "source": [
    "#Encoding categorical variables\n",
    "dt = pd.get_dummies(dt, columns=['work_type', 'smoking_status'], drop_first=True)\n",
    "dt['ever_married'] = dt['ever_married'].map({'Yes': 1, 'No': 0})\n",
    "dt['Residence_type'] = dt['Residence_type'].map({'Urban': 1, 'Rural': 0})\n",
    "dt['gender'] = dt['gender'].map({'Male': 1, 'Female': 0, 'Other': 2})"
   ]
  }
 ],
 "metadata": {
  "kernelspec": {
   "display_name": "Python 3",
   "language": "python",
   "name": "python3"
  },
  "language_info": {
   "codemirror_mode": {
    "name": "ipython",
    "version": 3
   },
   "file_extension": ".py",
   "mimetype": "text/x-python",
   "name": "python",
   "nbconvert_exporter": "python",
   "pygments_lexer": "ipython3",
   "version": "3.10.0"
  }
 },
 "nbformat": 4,
 "nbformat_minor": 5
}
